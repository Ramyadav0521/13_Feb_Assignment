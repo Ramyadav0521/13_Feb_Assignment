{
 "cells": [
  {
   "cell_type": "code",
   "execution_count": null,
   "id": "1df04f25-cdbe-4491-8996-b414971240be",
   "metadata": {},
   "outputs": [],
   "source": [
    "\n",
    "Q1. Explain why we have to use the Exception class while creating a Custom Exception.\n",
    "\n",
    "Note: Here Exception class refers to the base class for all the exceptions."
   ]
  },
  {
   "cell_type": "code",
   "execution_count": 5,
   "id": "da9092fc-7011-48ef-a329-cc672049c29c",
   "metadata": {},
   "outputs": [
    {
     "name": "stdin",
     "output_type": "stream",
     "text": [
      "Enter a number:  45\n"
     ]
    },
    {
     "name": "stdout",
     "output_type": "stream",
     "text": [
      "Eligible to Vote\n"
     ]
    }
   ],
   "source": [
    "# define Python user-defined exceptions\n",
    "class InvalidAgeException(Exception):\n",
    "    \"Raised when the input value is less than 18\"\n",
    "    pass\n",
    "\n",
    "# you need to guess this number\n",
    "number = 18\n",
    "\n",
    "try:\n",
    "    input_num = int(input(\"Enter a number: \"))\n",
    "    if input_num < number:\n",
    "        raise InvalidAgeException\n",
    "    else:\n",
    "        print(\"Eligible to Vote\")\n",
    "        \n",
    "except InvalidAgeException:\n",
    "    print(\"Exception occurred: Invalid Age\")"
   ]
  },
  {
   "cell_type": "code",
   "execution_count": null,
   "id": "0ea0bc02-5ff6-42e5-ace8-616b8f18e070",
   "metadata": {},
   "outputs": [],
   "source": []
  },
  {
   "cell_type": "code",
   "execution_count": null,
   "id": "50b0efbd-31ab-4cdb-9caf-cba9c3d0e872",
   "metadata": {},
   "outputs": [],
   "source": [
    "# Q2. Write a python program to print Python Exception Hierarchy."
   ]
  },
  {
   "cell_type": "code",
   "execution_count": 9,
   "id": "e010f64f-48f9-44fe-ba3a-feaeadc28b82",
   "metadata": {},
   "outputs": [],
   "source": [
    "# The Python exception class hierarchy consists of a few dozen different exceptions spread across a handful of important base class types. \n",
    "# As with most programming languages, errors occur within a Python application when something unexpected goes wrong. Anything from improper arithmetic and running out of memory to invalid file references and \n",
    "# unicode formatting errors may be raised by Python under certain circumstances.\n",
    "\n",
    "# Before Printing the Error Hierarchy let’s understand what an Exception really is? \n",
    "# Exceptions occur even if our code is syntactically correct, however, while executing they throw an error. \n",
    "# They are not unconditionally fatal, errors which we get while executing are called Exceptions. \n",
    "# There are many Built-in Exceptions in Python let’s try to print them out in a hierarchy.\n",
    "\n",
    "# import inspect module\n",
    "# import inspect\n",
    "  \n",
    "# # our treeClass function\n",
    "# def treeClass(cls, ind = 0):\n",
    "    \n",
    "#       # print name of the class\n",
    "#     print ('-' * ind, cls.__name__)\n",
    "      \n",
    "#     # iterating through subclasses\n",
    "#     for i in cls.__subclasses__():\n",
    "#         treeClass(i, ind + 3)\n",
    "  \n",
    "#     #print(\"Hierarchy for Built-in exceptions is : \")\n",
    "  \n",
    "# inspect.getmro() Return a tuple \"\"\"\n",
    "# # of class  cls’s base classes.\n",
    "  \n",
    "# # building a tree hierarchy \n",
    "# inspect.getclasstree(inspect.getmro(BaseException))\n",
    "  \n",
    "# # function call\n",
    "# treeClass(BaseException)\n"
   ]
  },
  {
   "cell_type": "code",
   "execution_count": null,
   "id": "0de85250-7a2c-4153-9418-8a25b56315b3",
   "metadata": {},
   "outputs": [],
   "source": []
  },
  {
   "cell_type": "code",
   "execution_count": null,
   "id": "61db9d0a-2699-4181-8dde-30d8a2f8ab72",
   "metadata": {},
   "outputs": [],
   "source": [
    "# Q3. What errors are defined in the ArithmeticError class? Explain any two with an example"
   ]
  },
  {
   "cell_type": "code",
   "execution_count": 11,
   "id": "bfcdc61f-fb65-424f-b3ef-b92366e360b9",
   "metadata": {},
   "outputs": [
    {
     "name": "stdout",
     "output_type": "stream",
     "text": [
      "This statement is raising an arithmetic exception.\n"
     ]
    }
   ],
   "source": [
    "# exception BaseException\n",
    "# This is the base class for all built-in exceptions. It is not meant to be directly inherited by user-defined classes. For, user-defined classes, Exception is used. This class is responsible for creating a string representation of the exception using str() using the arguments passed. An empty string is returned if there are no arguments.\n",
    "# args : The args are the tuple of arguments given to the exception constructor.\n",
    "# with_traceback(tb) : This method is usually used in exception handling. This method sets tb as the new traceback for the exception and returns the exception object.\n",
    "\n",
    "# exception Exception\n",
    "# This is the base class for all built-in non-system-exiting exceptions. All user-defined exceptions should also be derived from this class.\n",
    "# exception ArithmeticError\n",
    "# This class is the base class for those built-in exceptions that are raised for various arithmetic errors such as :\n",
    "# OverflowError\n",
    "# ZeroDivisionError\n",
    "# FloatingPointError\n",
    "\n",
    "\n",
    "try:  \n",
    "    a = 10/0  \n",
    "    print (a)\n",
    "except ArithmeticError:  \n",
    "        print (\"This statement is raising an arithmetic exception.\")\n",
    "else:  \n",
    "    print (\"Success.\")\n",
    "\n",
    "# exception FloatingPointError\n",
    "# A FloatingPointError is raised when a floating point operation fails. This exception is always defined, but can only be raised when Python is configured with the–with-fpectl option, or the WANT_SIGFPE_HANDLER symbol is defined in the pyconfig.h file"
   ]
  },
  {
   "cell_type": "code",
   "execution_count": null,
   "id": "7d07afbf-7e60-4b0f-a81d-ad0f626fee65",
   "metadata": {},
   "outputs": [],
   "source": []
  },
  {
   "cell_type": "code",
   "execution_count": 12,
   "id": "f82d5afd-dcb9-4dfd-965c-74c9cb0d1843",
   "metadata": {},
   "outputs": [],
   "source": [
    "# Q4. Why LookupError class is used? Explain with an example KeyError and IndexError."
   ]
  },
  {
   "cell_type": "code",
   "execution_count": 14,
   "id": "ac150fa1-0e92-4220-9664-67d86fa86a68",
   "metadata": {},
   "outputs": [
    {
     "name": "stdin",
     "output_type": "stream",
     "text": [
      "What do you want to learn about Pylenin==>  Python\n"
     ]
    },
    {
     "name": "stdout",
     "output_type": "stream",
     "text": [
      "'Python', <class 'KeyError'>\n"
     ]
    }
   ],
   "source": [
    "# Lookup Error\n",
    "# Lookup Error acts as a base class for the exceptions that occur when a key or index used on a mapping or sequence of a list/dictionary is invalid or does not exists.\n",
    "\n",
    "# The two types of exceptions raised are:\n",
    "\n",
    "# IndexError\n",
    "# KeyError\n",
    "# Key Error\n",
    "# If a key you are trying to access is not found in the dictionary, a key error exception is raised.\n",
    "\n",
    "pylenin_info = {'name': 'Ram Yadav',\n",
    "                'age': 21,\n",
    "                'language': 'Python'}\n",
    "user_input = input('What do you want to learn about Pylenin==> ')\n",
    "\n",
    "try:\n",
    "    print(f'{user_input} is {pylenin_info[user_input]}')\n",
    "except LookupError as e:\n",
    "    print(f'{e}, {e.__class__}')"
   ]
  },
  {
   "cell_type": "code",
   "execution_count": null,
   "id": "f3f49d59-4e42-448c-96fc-c82c4d3ca52d",
   "metadata": {},
   "outputs": [],
   "source": []
  },
  {
   "cell_type": "code",
   "execution_count": 1,
   "id": "13907a74-eac3-4729-ad38-41e730a292f8",
   "metadata": {},
   "outputs": [],
   "source": [
    "# Q5. Explain ImportError. What is ModuleNotFoundError?\n",
    "\n",
    "# What Causes ImportError: Cannot Import Name\n",
    "# This error generally occurs when a class cannot be imported due to one of the following reasons:\n",
    "\n",
    "# The imported class is in a circular dependency.\n",
    "# The imported class is unavailable or was not created.\n",
    "# The imported class name is misspelled.\n",
    "# The imported class from a module is misplaced.\n",
    "# The imported class is unavailable in the Python library.\n",
    "\n",
    "# Python, ImportError occurs when the Python program tries to import module which does not exist in the private table.\n",
    "# This exception can be avoided using exception handling using try and except blocks. \n",
    "# We also saw examples of how the ImportError occurs and how it is handled.\n",
    "\n",
    "# The ImportError: cannot import name can be fixed using the following approaches, depending on the cause of the error:\n",
    "\n",
    "# If the error occurs due to a circular dependency, it can be resolved by moving the imported classes to a third file and importing them from this file.\n",
    "# If the error occurs due to a misspelled name, the name of the class in the Python file should be verified and corrected. \n",
    "\n"
   ]
  },
  {
   "cell_type": "code",
   "execution_count": 2,
   "id": "e677ab0b-33f5-445d-9e46-5266039e82eb",
   "metadata": {},
   "outputs": [],
   "source": [
    "# Q.6:-Q6. List down some best practices for exception handling in python. "
   ]
  },
  {
   "cell_type": "code",
   "execution_count": 4,
   "id": "810b3b5b-278b-4383-b109-ac639dec0dc2",
   "metadata": {},
   "outputs": [],
   "source": [
    "# Why Do We Need Error Handling?\n",
    "\n",
    "# 1. Prevents program from crashing if an error occurs\n",
    "# If an error occurs in a program, we don’t want the program to unexpectedly crash on the user. Instead, error handling can be used to notify the user of why the error occurred and gracefully exit the process that caused the error.\n",
    "# 2. Saves time debugging errors\n",
    "# Following reason #1, having the program display an error instead of immediately crashing will save a lot of time when debugging errors.\n",
    "# The logic inside the error handler can be updated to display useful information for the developer, such as the code trackback, type of error, etc.\n",
    "# 3. Helps define requirements for the program\n",
    "# If the program crashes due to bad input, the error handler could notify the user of why the error occurred and define the requirements and constraints of the program.\n",
    "# Error-Handling Practices\n",
    "# In this article we’ll discuss the following:\n",
    "\n",
    "# Exception handling using try - except and try - except - finally\n",
    "# Assertions\n",
    "# When to use exceptions vs. assertions\n",
    "# You will thank yourself later if you apply these error-handling techniques.\n",
    "\n"
   ]
  },
  {
   "cell_type": "code",
   "execution_count": null,
   "id": "fa1c8c97-0fbf-440e-ada8-ec0f6db61d0c",
   "metadata": {},
   "outputs": [],
   "source": []
  },
  {
   "cell_type": "code",
   "execution_count": null,
   "id": "774b4321-c603-467f-980b-9146788ba1e3",
   "metadata": {},
   "outputs": [],
   "source": []
  }
 ],
 "metadata": {
  "kernelspec": {
   "display_name": "Python 3 (ipykernel)",
   "language": "python",
   "name": "python3"
  },
  "language_info": {
   "codemirror_mode": {
    "name": "ipython",
    "version": 3
   },
   "file_extension": ".py",
   "mimetype": "text/x-python",
   "name": "python",
   "nbconvert_exporter": "python",
   "pygments_lexer": "ipython3",
   "version": "3.10.6"
  }
 },
 "nbformat": 4,
 "nbformat_minor": 5
}
